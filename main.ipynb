{
 "cells": [
  {
   "cell_type": "code",
   "execution_count": 13,
   "metadata": {},
   "outputs": [
    {
     "name": "stdout",
     "output_type": "stream",
     "text": [
      "       Sepal Length (cm)  Sepal Width (cm)  Petal Length (cm)  \\\n",
      "count         150.000000        150.000000         150.000000   \n",
      "mean            5.843333          3.054000           3.758667   \n",
      "std             0.828066          0.433594           1.764420   \n",
      "min             4.300000          2.000000           1.000000   \n",
      "25%             5.100000          2.800000           1.600000   \n",
      "50%             5.800000          3.000000           4.350000   \n",
      "75%             6.400000          3.300000           5.100000   \n",
      "max             7.900000          4.400000           6.900000   \n",
      "\n",
      "       Petal Width (cm)  \n",
      "count        150.000000  \n",
      "mean           1.198667  \n",
      "std            0.763161  \n",
      "min            0.100000  \n",
      "25%            0.300000  \n",
      "50%            1.300000  \n",
      "75%            1.800000  \n",
      "max            2.500000  \n"
     ]
    }
   ],
   "source": [
    "# Q.1\n",
    "import pandas as pd\n",
    "data = pd.read_csv(\"iris.csv\")\n",
    "print(data.describe())"
   ]
  },
  {
   "cell_type": "code",
   "execution_count": 12,
   "metadata": {},
   "outputs": [
    {
     "name": "stdout",
     "output_type": "stream",
     "text": [
      "       Sepal Length (cm)  Sepal Width (cm)  Petal Length (cm)  \\\n",
      "count         150.000000        150.000000         150.000000   \n",
      "mean            5.843333          3.054000           3.758667   \n",
      "std             0.828066          0.433594           1.764420   \n",
      "min             4.300000          2.000000           1.000000   \n",
      "25%             5.100000          2.800000           1.600000   \n",
      "50%             5.800000          3.000000           4.350000   \n",
      "75%             6.400000          3.300000           5.100000   \n",
      "max             7.900000          4.400000           6.900000   \n",
      "\n",
      "       Petal Width (cm)  \n",
      "count        150.000000  \n",
      "mean           1.198667  \n",
      "std            0.763161  \n",
      "min            0.100000  \n",
      "25%            0.300000  \n",
      "50%            1.300000  \n",
      "75%            1.800000  \n",
      "max            2.500000  \n",
      "     Sepal Length (cm)  Sepal Width (cm)  Petal Length (cm)  Petal Width (cm)\n",
      "0                  5.1               3.5                1.4               0.2\n",
      "1                  4.9               3.0                1.4               0.2\n",
      "2                  4.7               3.2                1.3               0.2\n",
      "3                  4.6               3.1                1.5               0.2\n",
      "4                  5.0               3.6                1.4               0.2\n",
      "..                 ...               ...                ...               ...\n",
      "145                6.7               3.0                5.2               2.3\n",
      "146                6.3               2.5                5.0               1.9\n",
      "147                6.5               3.0                5.2               2.0\n",
      "148                6.2               3.4                5.4               2.3\n",
      "149                5.9               3.0                5.1               1.8\n",
      "\n",
      "[150 rows x 4 columns]\n",
      "0         Iris-setosa\n",
      "1         Iris-setosa\n",
      "2         Iris-setosa\n",
      "3         Iris-setosa\n",
      "4         Iris-setosa\n",
      "            ...      \n",
      "145    Iris-virginica\n",
      "146    Iris-virginica\n",
      "147    Iris-virginica\n",
      "148    Iris-virginica\n",
      "149    Iris-virginica\n",
      "Name: Class, Length: 150, dtype: object\n"
     ]
    }
   ],
   "source": [
    "import pandas as pd\n",
    "df=pd.read_csv('iris.csv')\n",
    "print(df.describe())\n",
    "\n",
    "X=df.drop('Class',axis=1)\n",
    "y=df['Class']\n",
    "print(X)\n",
    "print(y)\n",
    "\n"
   ]
  },
  {
   "cell_type": "code",
   "execution_count": 14,
   "metadata": {},
   "outputs": [
    {
     "name": "stdout",
     "output_type": "stream",
     "text": [
      "Training Data =       Sepal Length (cm)  Sepal Width (cm)  Petal Length (cm)  Petal Width (cm)\n",
      "81                 5.5               2.4                3.7               1.0\n",
      "112                6.8               3.0                5.5               2.1\n",
      "133                6.3               2.8                5.1               1.5\n",
      "1                  4.9               3.0                1.4               0.2\n",
      "64                 5.6               2.9                3.6               1.3\n",
      "..                 ...               ...                ...               ...\n",
      "144                6.7               3.3                5.7               2.5\n",
      "28                 5.2               3.4                1.4               0.2\n",
      "114                5.8               2.8                5.1               2.4\n",
      "145                6.7               3.0                5.2               2.3\n",
      "143                6.8               3.2                5.9               2.3\n",
      "\n",
      "[120 rows x 4 columns]\n",
      "Testing Data =       Sepal Length (cm)  Sepal Width (cm)  Petal Length (cm)  Petal Width (cm)\n",
      "70                 5.9               3.2                4.8               1.8\n",
      "66                 5.6               3.0                4.5               1.5\n",
      "147                6.5               3.0                5.2               2.0\n",
      "63                 6.1               2.9                4.7               1.4\n",
      "89                 5.5               2.5                4.0               1.3\n",
      "135                7.7               3.0                6.1               2.3\n",
      "12                 4.8               3.0                1.4               0.1\n",
      "132                6.4               2.8                5.6               2.2\n",
      "90                 5.5               2.6                4.4               1.2\n",
      "122                7.7               2.8                6.7               2.0\n",
      "26                 5.0               3.4                1.6               0.4\n",
      "44                 5.1               3.8                1.9               0.4\n",
      "69                 5.6               2.5                3.9               1.1\n",
      "61                 5.9               3.0                4.2               1.5\n",
      "45                 4.8               3.0                1.4               0.3\n",
      "16                 5.4               3.9                1.3               0.4\n",
      "8                  4.4               2.9                1.4               0.2\n",
      "39                 5.1               3.4                1.5               0.2\n",
      "53                 5.5               2.3                4.0               1.3\n",
      "23                 5.1               3.3                1.7               0.5\n",
      "149                5.9               3.0                5.1               1.8\n",
      "72                 6.3               2.5                4.9               1.5\n",
      "65                 6.7               3.1                4.4               1.4\n",
      "137                6.4               3.1                5.5               1.8\n",
      "124                6.7               3.3                5.7               2.1\n",
      "60                 5.0               2.0                3.5               1.0\n",
      "15                 5.7               4.4                1.5               0.4\n",
      "97                 6.2               2.9                4.3               1.3\n",
      "42                 4.4               3.2                1.3               0.2\n",
      "73                 6.1               2.8                4.7               1.2\n"
     ]
    }
   ],
   "source": [
    "#Question3\n",
    "from sklearn.model_selection import train_test_split\n",
    "X_train, X_test, y_train, y_test = train_test_split(X, y, test_size=0.20)\n",
    "\n",
    "print(\"Training Data = \" ,X_train)\n",
    "\n",
    "print(\"Testing Data = \",X_test)"
   ]
  },
  {
   "cell_type": "code",
   "execution_count": 15,
   "metadata": {},
   "outputs": [
    {
     "name": "stdout",
     "output_type": "stream",
     "text": [
      "Training Data =  [1 2 2 2 0 2 1 2 0 2 2 1 0 0 1 0 0 1 1 1 1 2 0 2 0 0 0 1 1 1 0 1 0 0 0 2 2\n",
      " 1 2 0 2 2 0 2 2 2 0 0 1 2 0 1 0 2 2 1 0 2 2 2 1 2 0 2 0 1 0 2 1 1 1 0 1 0\n",
      " 2 2 2 1 0 1 1 0 2 1 2 1 0 0 1 0 2 1 1 1 1 2 0 2 1 2 0 2 0 2 2 1 1 1 1 0 1\n",
      " 0 1 2 1 1 0 2 0 2]\n",
      "Testing Data =  [1 0 1 2 0 1 2 0 1 0 1 2 2 2 1 0 0 0 2 1 2 0 0 1 1 0 0 2 2 0]\n"
     ]
    }
   ],
   "source": [
    "# Question4\n",
    "from sklearn.preprocessing import LabelEncoder\n",
    "le = LabelEncoder()\n",
    "encodedData = le.fit_transform(y)\n",
    "X_train, X_test, y_train, y_test = train_test_split(X, encodedData, test_size=0.20)\n",
    "print(\"Training Data = \" , y_train)\n",
    "print(\"Testing Data = \", y_test)"
   ]
  },
  {
   "cell_type": "code",
   "execution_count": 16,
   "metadata": {},
   "outputs": [
    {
     "name": "stdout",
     "output_type": "stream",
     "text": [
      "Response for test dataset:\n",
      "['Iris-virginica' 'Iris-setosa' 'Iris-versicolor' 'Iris-versicolor'\n",
      " 'Iris-versicolor' 'Iris-setosa' 'Iris-virginica' 'Iris-setosa'\n",
      " 'Iris-setosa' 'Iris-setosa' 'Iris-virginica' 'Iris-setosa'\n",
      " 'Iris-virginica' 'Iris-setosa' 'Iris-versicolor' 'Iris-virginica'\n",
      " 'Iris-versicolor' 'Iris-setosa' 'Iris-virginica' 'Iris-setosa'\n",
      " 'Iris-versicolor' 'Iris-versicolor' 'Iris-setosa' 'Iris-setosa'\n",
      " 'Iris-setosa' 'Iris-virginica' 'Iris-virginica' 'Iris-virginica'\n",
      " 'Iris-versicolor' 'Iris-setosa' 'Iris-setosa' 'Iris-versicolor'\n",
      " 'Iris-setosa' 'Iris-setosa' 'Iris-setosa' 'Iris-setosa' 'Iris-virginica'\n",
      " 'Iris-virginica' 'Iris-virginica' 'Iris-setosa' 'Iris-virginica'\n",
      " 'Iris-setosa' 'Iris-virginica' 'Iris-virginica' 'Iris-virginica']\n"
     ]
    }
   ],
   "source": [
    "# Question5\n",
    "from sklearn.neighbors import KNeighborsClassifier\n",
    "X_train, X_test, y_train, y_test = train_test_split(X, y, test_size=0.30)\n",
    "knn = KNeighborsClassifier(n_neighbors=5)\n",
    "knn.fit(X_train, y_train)\n",
    "print(\"Response for test dataset:\")\n",
    "y_pred = knn.predict(X_test)\n",
    "print(y_pred)"
   ]
  },
  {
   "cell_type": "code",
   "execution_count": 19,
   "metadata": {},
   "outputs": [
    {
     "name": "stdout",
     "output_type": "stream",
     "text": [
      "For k = 1 accuracy is 1.0\n",
      "For k = 2 accuracy is 1.0\n",
      "For k = 3 accuracy is 1.0\n",
      "For k = 4 accuracy is 1.0\n",
      "For k = 5 accuracy is 1.0\n",
      "For k = 6 accuracy is 1.0\n",
      "For k = 7 accuracy is 1.0\n",
      "For k = 8 accuracy is 1.0\n",
      "For k = 9 accuracy is 1.0\n"
     ]
    },
    {
     "name": "stderr",
     "output_type": "stream",
     "text": [
      "C:\\Users\\ItsAb\\AppData\\Local\\Temp/ipykernel_8232/1472484089.py:10: DeprecationWarning: The default dtype for empty Series will be 'object' instead of 'float64' in a future version. Specify a dtype explicitly to silence this warning.\n",
      "  a=pd.Series()\n"
     ]
    }
   ],
   "source": [
    "# Question6\n",
    "import numpy as np\n",
    "from sklearn import metrics\n",
    "import matplotlib.pyplot as plt\n",
    "\n",
    "X_train, X_test, y_train, y_test = train_test_split(X, y, test_size=0.20) \n",
    "knn = KNeighborsClassifier(n_neighbors=5)  \n",
    "knn.fit(X_train, y_train)   \n",
    "a_index=list(range(1,11))\n",
    "a=pd.Series()\n",
    "\n",
    "# Calculate the accuracy of the model for different values of k\n",
    "for i in np.arange(1, 10):\n",
    "    knn2 = KNeighborsClassifier(n_neighbors=i)\n",
    "    knn2.fit(X_train, y_train)\n",
    "    print(\"For k = %d accuracy is\"%i,knn2.score(X_test,y_test))"
   ]
  },
  {
   "cell_type": "code",
   "execution_count": 21,
   "metadata": {},
   "outputs": [
    {
     "name": "stdout",
     "output_type": "stream",
     "text": [
      "[[38  7]\n",
      " [ 1 68]]\n",
      "              precision    recall  f1-score   support\n",
      "\n",
      "           0       0.97      0.84      0.90        45\n",
      "           1       0.91      0.99      0.94        69\n",
      "\n",
      "    accuracy                           0.93       114\n",
      "   macro avg       0.94      0.91      0.92       114\n",
      "weighted avg       0.93      0.93      0.93       114\n",
      "\n"
     ]
    }
   ],
   "source": [
    "# Question7\n",
    "from sklearn.metrics import classification_report, confusion_matrix\n",
    "from sklearn.svm import SVC\n",
    "from sklearn.preprocessing import StandardScaler\n",
    "from sklearn import datasets\n",
    "\n",
    "BreastCancerData = datasets.load_breast_cancer()\n",
    "X = BreastCancerData.data\n",
    "y = BreastCancerData.target\n",
    "# Create training and test split\n",
    "X_train, X_test, y_train, y_test = train_test_split(X, y, test_size=0.20) \n",
    "sc = StandardScaler()\n",
    "sc.fit(X_train)\n",
    "X_train_std = sc.transform(X_train)\n",
    "X_test_std = sc.transform(X_test)\n",
    "  # Instantiate the Support Vector Classifier (SVC)\n",
    "svclassifier = SVC(kernel='linear')\n",
    "# Fit the model\n",
    "svclassifier.fit(X_train, y_train)\n",
    " # Make the predictions\n",
    "y_pred = svclassifier.predict(X_test)\n",
    "# Measure the performance\n",
    "print(confusion_matrix(y_test,y_pred))\n",
    "print(classification_report(y_test,y_pred))"
   ]
  },
  {
   "cell_type": "code",
   "execution_count": 23,
   "metadata": {},
   "outputs": [
    {
     "name": "stdout",
     "output_type": "stream",
     "text": [
      "     Country  Latitude  Longitude Language\n",
      "0        USA     44.97    -103.77  English\n",
      "1     Canada     62.40     -96.80  English\n",
      "2     France     46.75       2.40   French\n",
      "3         UK     54.01      -2.53  English\n",
      "4    Germany     51.15      10.40   German\n",
      "5  Australia    -25.45     133.11  English\n"
     ]
    },
    {
     "data": {
      "image/png": "[encoded data removed]",
      "text/plain": [
       "<Figure size 432x288 with 1 Axes>"
      ]
     },
     "metadata": {},
     "output_type": "display_data"
    },
    {
     "data": {
      "text/html": [
       "<div>\n",
       "<style scoped>\n",
       "    .dataframe tbody tr th:only-of-type {\n",
       "        vertical-align: middle;\n",
       "    }\n",
       "\n",
       "    .dataframe tbody tr th {\n",
       "        vertical-align: top;\n",
       "    }\n",
       "\n",
       "    .dataframe thead th {\n",
       "        text-align: right;\n",
       "    }\n",
       "</style>\n",
       "<table border=\"1\" class=\"dataframe\">\n",
       "  <thead>\n",
       "    <tr style=\"text-align: right;\">\n",
       "      <th></th>\n",
       "      <th>Latitude</th>\n",
       "      <th>Longitude</th>\n",
       "    </tr>\n",
       "  </thead>\n",
       "  <tbody>\n",
       "    <tr>\n",
       "      <th>0</th>\n",
       "      <td>44.97</td>\n",
       "      <td>-103.77</td>\n",
       "    </tr>\n",
       "    <tr>\n",
       "      <th>1</th>\n",
       "      <td>62.40</td>\n",
       "      <td>-96.80</td>\n",
       "    </tr>\n",
       "    <tr>\n",
       "      <th>2</th>\n",
       "      <td>46.75</td>\n",
       "      <td>2.40</td>\n",
       "    </tr>\n",
       "    <tr>\n",
       "      <th>3</th>\n",
       "      <td>54.01</td>\n",
       "      <td>-2.53</td>\n",
       "    </tr>\n",
       "    <tr>\n",
       "      <th>4</th>\n",
       "      <td>51.15</td>\n",
       "      <td>10.40</td>\n",
       "    </tr>\n",
       "  </tbody>\n",
       "</table>\n",
       "</div>"
      ],
      "text/plain": [
       "   Latitude  Longitude\n",
       "0     44.97    -103.77\n",
       "1     62.40     -96.80\n",
       "2     46.75       2.40\n",
       "3     54.01      -2.53\n",
       "4     51.15      10.40"
      ]
     },
     "execution_count": 23,
     "metadata": {},
     "output_type": "execute_result"
    }
   ],
   "source": [
    "# Question8\n",
    "import numpy as np\n",
    "import pandas as pd\n",
    "import statsmodels.api as sm\n",
    "import matplotlib.pyplot as plt\n",
    "import seaborn as sns\n",
    "sns.set()\n",
    "from sklearn.cluster import KMeans\n",
    "\n",
    "df = pd.read_excel('Countryclusters.xlsx')\n",
    "print(df)\n",
    "X = df['Latitude']\n",
    "y= df['Longitude']\n",
    "plt.scatter(X, y)\n",
    "plt.show()\n",
    "features = ['Latitude','Longitude']\n",
    "featuredData = df[features]\n",
    "featuredData.head()"
   ]
  },
  {
   "cell_type": "code",
   "execution_count": null,
   "metadata": {},
   "outputs": [],
   "source": []
  }
 ],
 "metadata": {
  "interpreter": {
   "hash": "b3ba2566441a7c06988d0923437866b63cedc61552a5af99d1f4fb67d367b25f"
  },
  "kernelspec": {
   "display_name": "Python 3.9.7 64-bit ('base': conda)",
   "language": "python",
   "name": "python3"
  },
  "language_info": {
   "codemirror_mode": {
    "name": "ipython",
    "version": 3
   },
   "file_extension": ".py",
   "mimetype": "text/x-python",
   "name": "python",
   "nbconvert_exporter": "python",
   "pygments_lexer": "ipython3",
   "version": "3.9.7"
  },
  "orig_nbformat": 4
 },
 "nbformat": 4,
 "nbformat_minor": 2
}
